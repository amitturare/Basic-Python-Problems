{
 "metadata": {
  "language_info": {
   "codemirror_mode": {
    "name": "ipython",
    "version": 3
   },
   "file_extension": ".py",
   "mimetype": "text/x-python",
   "name": "python",
   "nbconvert_exporter": "python",
   "pygments_lexer": "ipython3",
   "version": "3.9.1-final"
  },
  "orig_nbformat": 2,
  "kernelspec": {
   "name": "python3",
   "display_name": "Python 3.9.1 64-bit",
   "metadata": {
    "interpreter": {
     "hash": "d09eb01ff71c23bf08ba5f3f1cdadc9c8fc4ce20826c1bff5bbc628d0d5b1689"
    }
   }
  }
 },
 "nbformat": 4,
 "nbformat_minor": 2,
 "cells": [
  {
   "cell_type": "code",
   "execution_count": null,
   "metadata": {},
   "outputs": [],
   "source": [
    "\"\"\"\n",
    "Q1: Write a python program to find whether given string is Palindrome or not.\n",
    "Input string=MADAM \n",
    "Output:  String MADAM is Palindrome\n",
    "\"\"\"\n",
    "input1 = input(\"Enter some str: \")\n",
    "reverse = input1[::-1]\n",
    "reverse = reverse.casefold()\n",
    "input1 = input1.casefold()\n",
    "if reverse == input1:\n",
    "    print(input1, \"It's a palindrome.\")\n",
    "else:\n",
    "    print(\"It's not a palindrome.\")"
   ]
  },
  {
   "cell_type": "code",
   "execution_count": null,
   "metadata": {},
   "outputs": [],
   "source": [
    "\"\"\"\n",
    "Q2: Write a program to find the length of the string \"refrigerator\" without using len function.\n",
    "\"\"\"\n",
    "input2 = input(\"Enter some str: \")\n",
    "count = 0\n",
    "for i in input2:\n",
    "    count = count + 1\n",
    "print(count)"
   ]
  },
  {
   "cell_type": "code",
   "execution_count": null,
   "metadata": {},
   "outputs": [],
   "source": [
    "\"\"\"\n",
    "Q3: Write a Python program to count the occurrences of each word in a given sentence\n",
    "Input String= “This is the best of Times”\n",
    "\"\"\"\n",
    "input3 = \"This is the best of Times\"\n",
    "print(input3.count('This'))\n",
    "print(input3.count('is'))\n",
    "print(input3.count('the'))\n",
    "print(input3.count('best'))\n",
    "print(input3.count('of'))"
   ]
  },
  {
   "cell_type": "code",
   "execution_count": null,
   "metadata": {},
   "outputs": [],
   "source": [
    "\"\"\"\n",
    "Q4: Write a Python program to count and display the vowels of a given text. \n",
    "Input String = ”This program is related to String”\n",
    "\"\"\"\n",
    "input4 = input(\"Enter some str: \")\n",
    "vowels=0\n",
    "input4 = input4.casefold()\n",
    "\n",
    "for i in input4:\n",
    "    if(i == 'a' or i == 'e' or i == 'i' or i == 'o' or i == 'u'):\n",
    "           vowels += 1\n",
    "           print(i, end=\" \")\n",
    "print(\"\\nThe number of vowels:\",vowels)\n"
   ]
  },
  {
   "cell_type": "code",
   "execution_count": null,
   "metadata": {},
   "outputs": [],
   "source": [
    "\"\"\"\n",
    "Q5: Write a Python program to remove spaces from a given string.\n",
    "\"\"\"\n",
    "input5 = input(\"Enter some str: \")\n",
    "input5 = input5.replace(\" \", '')\n",
    "print(input5)"
   ]
  }
 ]
}