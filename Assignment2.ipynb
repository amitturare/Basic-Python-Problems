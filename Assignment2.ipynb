{
 "metadata": {
  "language_info": {
   "codemirror_mode": {
    "name": "ipython",
    "version": 3
   },
   "file_extension": ".py",
   "mimetype": "text/x-python",
   "name": "python",
   "nbconvert_exporter": "python",
   "pygments_lexer": "ipython3",
   "version": "3.9.6"
  },
  "orig_nbformat": 2,
  "kernelspec": {
   "name": "python3",
   "display_name": "Python 3.9.6 64-bit"
  },
  "interpreter": {
   "hash": "d09eb01ff71c23bf08ba5f3f1cdadc9c8fc4ce20826c1bff5bbc628d0d5b1689"
  }
 },
 "nbformat": 4,
 "nbformat_minor": 2,
 "cells": [
  {
   "cell_type": "code",
   "execution_count": 1,
   "metadata": {},
   "outputs": [
    {
     "output_type": "stream",
     "name": "stdout",
     "text": [
      "Type 1 for Addition\nType 2 for Substraction\nType 3 for Multiplication\nType 4 for Division\nType 5 for Modulus\nType 6 to exit.\n"
     ]
    },
    {
     "output_type": "error",
     "ename": "ValueError",
     "evalue": "invalid literal for int() with base 10: ''",
     "traceback": [
      "\u001b[1;31m---------------------------------------------------------------------------\u001b[0m",
      "\u001b[1;31mValueError\u001b[0m                                Traceback (most recent call last)",
      "\u001b[1;32m~\\AppData\\Local\\Temp/ipykernel_13108/642452684.py\u001b[0m in \u001b[0;36m<module>\u001b[1;34m\u001b[0m\n\u001b[0;32m      8\u001b[0m \u001b[1;33m\u001b[0m\u001b[0m\n\u001b[0;32m      9\u001b[0m \u001b[1;32mwhile\u001b[0m \u001b[1;32mTrue\u001b[0m\u001b[1;33m:\u001b[0m\u001b[1;33m\u001b[0m\u001b[1;33m\u001b[0m\u001b[0m\n\u001b[1;32m---> 10\u001b[1;33m     \u001b[0mc\u001b[0m \u001b[1;33m=\u001b[0m \u001b[0mint\u001b[0m\u001b[1;33m(\u001b[0m\u001b[0minput\u001b[0m\u001b[1;33m(\u001b[0m\u001b[1;34m\"Enter your choice: \"\u001b[0m\u001b[1;33m)\u001b[0m\u001b[1;33m)\u001b[0m\u001b[1;33m\u001b[0m\u001b[1;33m\u001b[0m\u001b[0m\n\u001b[0m\u001b[0;32m     11\u001b[0m     \u001b[1;32mif\u001b[0m\u001b[1;33m(\u001b[0m\u001b[0mc\u001b[0m \u001b[1;33m==\u001b[0m \u001b[1;36m6\u001b[0m\u001b[1;33m)\u001b[0m\u001b[1;33m:\u001b[0m\u001b[1;33m\u001b[0m\u001b[1;33m\u001b[0m\u001b[0m\n\u001b[0;32m     12\u001b[0m         \u001b[0my\u001b[0m \u001b[1;33m=\u001b[0m \u001b[0minput\u001b[0m\u001b[1;33m(\u001b[0m\u001b[1;34m\"Want to break the loop?\\n\"\u001b[0m\u001b[1;33m)\u001b[0m\u001b[1;33m\u001b[0m\u001b[1;33m\u001b[0m\u001b[0m\n",
      "\u001b[1;31mValueError\u001b[0m: invalid literal for int() with base 10: ''"
     ]
    }
   ],
   "source": [
    "# Q.1\n",
    "print(\"Type 1 for Addition\")\n",
    "print(\"Type 2 for Substraction\")\n",
    "print(\"Type 3 for Multiplication\")\n",
    "print(\"Type 4 for Division\")\n",
    "print(\"Type 5 for Modulus\")\n",
    "print(\"Type 6 to exit.\")\n",
    "\n",
    "while True:\n",
    "    c = int(input(\"Enter your choice: \"))\n",
    "    if(c == 6):\n",
    "        y = input(\"Want to break the loop?\\n\")\n",
    "        if(y == \"Yes\"):\n",
    "            a, b = None, None\n",
    "            break\n",
    "        else:\n",
    "            continue\n",
    "\n",
    "    a = float(input(\"Enter one number = \"))\n",
    "    b = float(input(\"Enter another number = \"))\n",
    "    \n",
    "    if(c == 1):\n",
    "        print('Addition of a and b = ', a + b)\n",
    "    elif(c == 2):\n",
    "        print('Substraction of a and b = ', a - b)\n",
    "    elif(c == 3):\n",
    "        print('Multiplication of a and b = ', a * b)\n",
    "    elif(c == 4):\n",
    "        print('Division of a and b = ', a / b)\n",
    "    elif(c == 5):\n",
    "        print('Modulus of a and b = ', a % b)\n"
   ]
  },
  {
   "cell_type": "code",
   "execution_count": 2,
   "metadata": {},
   "outputs": [
    {
     "output_type": "stream",
     "name": "stdout",
     "text": [
      "HelloHelloHello\n"
     ]
    }
   ],
   "source": [
    "# Q.2\n",
    "a = input(\"Enter a string\")\n",
    "b = len(a) # len = counting the strings\n",
    "\n",
    "a[0] # Q.2.a\n",
    "\n",
    "a[b-1] # Q.2.b\n",
    "\n",
    "a[0:3] # Q.2.c\n",
    "\n",
    "a[b-4:] # Q.2.d\n",
    "\n",
    "print(a * 3) # Q.2.e"
   ]
  },
  {
   "cell_type": "code",
   "execution_count": 3,
   "metadata": {},
   "outputs": [
    {
     "output_type": "stream",
     "name": "stdout",
     "text": [
      "Hello  Amit Turare\nWelcome to Python\n"
     ]
    }
   ],
   "source": [
    "# Q.3\n",
    "first = input(\"Enter your first name: \")\n",
    "last = input(\"Enter your last name: \")\n",
    "print(\"Hello \", first, last,)\n",
    "print('Welcome to Python')"
   ]
  },
  {
   "cell_type": "code",
   "execution_count": 4,
   "metadata": {},
   "outputs": [
    {
     "output_type": "stream",
     "name": "stdout",
     "text": [
      "10\n20\n20 10\n"
     ]
    }
   ],
   "source": [
    "# Q.4\n",
    "a = 10\n",
    "print(a)\n",
    "\n",
    "b = 20\n",
    "print(b)\n",
    "\n",
    "a, b = b, a\n",
    "print(a,b)"
   ]
  },
  {
   "cell_type": "code",
   "execution_count": null,
   "metadata": {},
   "outputs": [],
   "source": []
  }
 ]
}