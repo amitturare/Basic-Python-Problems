{
 "metadata": {
  "language_info": {
   "codemirror_mode": {
    "name": "ipython",
    "version": 3
   },
   "file_extension": ".py",
   "mimetype": "text/x-python",
   "name": "python",
   "nbconvert_exporter": "python",
   "pygments_lexer": "ipython3",
   "version": "3.9.1-final"
  },
  "orig_nbformat": 2,
  "kernelspec": {
   "name": "python3",
   "display_name": "Python 3.9.1 64-bit",
   "metadata": {
    "interpreter": {
     "hash": "d09eb01ff71c23bf08ba5f3f1cdadc9c8fc4ce20826c1bff5bbc628d0d5b1689"
    }
   }
  }
 },
 "nbformat": 4,
 "nbformat_minor": 2,
 "cells": [
  {
   "cell_type": "code",
   "execution_count": null,
   "metadata": {},
   "outputs": [],
   "source": [
    "'''\n",
    "Q1: WAP to find factorial of a number using recursive function.\n",
    "'''\n",
    "def factorial(x):\n",
    "    if x == 1:\n",
    "        return 1\n",
    "    else:\n",
    "        return(x*factorial(x-1))\n",
    "\n",
    "num = int(input(\"Enter a number: \"))\n",
    "print('Factorial of {} is {}'.format(num, factorial(num)))"
   ]
  },
  {
   "cell_type": "code",
   "execution_count": null,
   "metadata": {},
   "outputs": [],
   "source": [
    "'''\n",
    "Q2: WAP to display fibonacci sequence using recursion\n",
    "'''\n",
    "def fib(n):\n",
    "    if(n <= 1):\n",
    "        return n\n",
    "    else:\n",
    "        return(fib(n-1) + fib(n-2))\n",
    "\n",
    "nterms = int(input(\"Enter a number: \"))\n",
    "\n",
    "if(nterms <= 0):\n",
    "    print(\"Enter a natural number.\")\n",
    "else:\n",
    "    print(\"Fibonacci Sequance: \")\n",
    "    for i in range(nterms):\n",
    "        print(fib(i))"
   ]
  },
  {
   "cell_type": "code",
   "execution_count": null,
   "metadata": {},
   "outputs": [],
   "source": [
    "def string_length(str1, str2):\n",
    "    count = 0\n",
    "    count1 = 0\n",
    "    for char in str1:\n",
    "        count += 1\n",
    "    return count\n",
    "    for char in str2:\n",
    "        count1 += 1\n",
    "    return count, count1\n",
    "print(string_length('google.com', 'Amit'))"
   ]
  },
  {
   "cell_type": "code",
   "execution_count": null,
   "metadata": {},
   "outputs": [],
   "source": [
    "\n",
    "string = 'google.com'\n",
    "\n",
    "freq = {} \n",
    "for i in string: \n",
    "\tif i in freq: \n",
    "\t\tfreq[i] += 1\n",
    "\telse: \n",
    "\t    freq[i] = 1\n",
    "    \n",
    "\n",
    "print (\"Count of all characters:\", find_freq('google.com')) \n"
   ]
  },
  {
   "cell_type": "code",
   "execution_count": null,
   "metadata": {},
   "outputs": [],
   "source": [
    "a = 'AABBCCDD'\n",
    "b = 'AABBCDD'\n",
    "score = 0\n",
    "\n",
    "for i,j in zip(a,b):\n",
    "    if i==j:\n",
    "        score += 1\n",
    "    else:\n",
    "        break\n",
    "print(score)"
   ]
  },
  {
   "cell_type": "code",
   "execution_count": null,
   "metadata": {},
   "outputs": [],
   "source": [
    "import string\n",
    "print('1.', string.ascii_letters)\n",
    "print('2.', string.hexdigits)\n",
    "print('3.', string.octdigits)\n",
    "print('4.', string.printable)\n",
    "print('5.', string.punctuation)\n",
    "print('6.', string.whitespace)"
   ]
  },
  {
   "cell_type": "code",
   "execution_count": null,
   "metadata": {},
   "outputs": [],
   "source": [
    "import string\n",
    "print(string.capwords('this is python3.'))"
   ]
  },
  {
   "cell_type": "code",
   "execution_count": null,
   "metadata": {},
   "outputs": [],
   "source": [
    "fruits = ['apple', 'banana', 'mango', 'kiwi', 'cherry']\n",
    "new_list = []\n",
    "\n",
    "for i in fruits:\n",
    "    if 'a' in i:\n",
    "        new_list.append(i)\n",
    "print(new_list)\n",
    "\n",
    "#OR\n",
    "\n",
    "newlist = [x for x in fruits if 'a' in x]\n",
    "print(newlist)"
   ]
  },
  {
   "cell_type": "code",
   "execution_count": null,
   "metadata": {
    "tags": []
   },
   "outputs": [],
   "source": [
    "fruits = ['apple', 'banana', 'mango', 'kiwi', 'cherry']\n",
    "i = 0\n",
    "'''\n",
    "for i in range(len(fruits)):\n",
    "    print(fruits[i], end=\" \")\n",
    "'''\n",
    "while i<len(fruits):\n",
    "    print(fruits[i], end=\" \")\n",
    "    i+=1"
   ]
  },
  {
   "cell_type": "code",
   "execution_count": null,
   "metadata": {},
   "outputs": [],
   "source": [
    "fruits = ('apple', 'banana', 'mango', 'kiwi', 'cherry')\n",
    "for fruit in fruits:\n",
    "    print(fruit, end=\" \")"
   ]
  },
  {
   "cell_type": "code",
   "execution_count": null,
   "metadata": {},
   "outputs": [],
   "source": [
    "'''\n",
    "Return the largest item, print the smallest item and sum of odd elements from the tuple\n",
    "'''\n",
    "tupp = (1, 2, 3, 4, 5, 6, 7, 8, 9, 10)\n",
    "largest = max.tupp\n",
    "smallest = min.tupp\n",
    "sum_of_odd = \n",
    "print('Largest: {}, Smallest: {}, Sum of odd elements: {}'.format(largest, smallest, sum_of_odd))"
   ]
  },
  {
   "cell_type": "code",
   "execution_count": null,
   "metadata": {},
   "outputs": [],
   "source": [
    "'''\n",
    "Calculator for Binary, Octa, and Hexadecimal\n",
    "'''\n",
    "a = int(input(\"Enter one number\"))\n",
    "\n",
    "print(\"Type 1 for Binary\\nType 2 for Octa\\nType 3 for Hexadecimal\")\n",
    "\n",
    "try:\n",
    "    c = int(input(\"Enter your choice: \"))\n",
    "    \n",
    "    if(c == 1):\n",
    "        print('Binary of a =', bin(a))\n",
    "    elif(c == 2):\n",
    "        print('Octa of a =', oct(a))\n",
    "    elif(c == 3):\n",
    "        print('Hexadecimal of a =', hex(a))\n",
    "except:\n",
    "    print(\"Enter the number from the above given list.\")"
   ]
  },
  {
   "cell_type": "code",
   "execution_count": null,
   "metadata": {},
   "outputs": [],
   "source": [
    "'''\n",
    "Calculator\n",
    "'''\n",
    "def calc(a,b):\n",
    "        print(\"Type 1 for Addition\\nType 2 for Substraction\\nType 3 for Multiplication\\nType 4 for Division\\nType 5 for Modulus\\nType 6 to Exit\")\n",
    "\n",
    "        while True:\n",
    "            c = int(input(\"Enter your choice: \"))\n",
    "            if(c == 1):\n",
    "                print('Addition of a and b =', a + b)\n",
    "            elif(c == 2):\n",
    "                print('Substraction of a and b =', a - b)\n",
    "            elif(c == 3):\n",
    "                print('Multiplication of a and b =', a * b)\n",
    "            elif(c == 4):\n",
    "                print('Division of a and b =', a / b)\n",
    "            elif(c == 5):\n",
    "                print('Modulus of a and b =', a % b)\n",
    "            elif(c == 6):\n",
    "                d = input('Do you want to continue? ')\n",
    "                if d == 'yes':\n",
    "                    a = float(input(\"Enter one number: \"))\n",
    "                    b = float(input(\"Enter another number: \"))\n",
    "                    continue\n",
    "                else:\n",
    "                    break\n",
    "\n",
    "a = float(input(\"Enter one number: \"))\n",
    "b = float(input(\"Enter another number: \"))\n",
    "calc(a,b)"
   ]
  },
  {
   "cell_type": "code",
   "execution_count": null,
   "metadata": {},
   "outputs": [],
   "source": []
  }
 ]
}