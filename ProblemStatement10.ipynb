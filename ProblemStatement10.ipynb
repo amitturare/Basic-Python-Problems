{
 "metadata": {
  "language_info": {
   "codemirror_mode": {
    "name": "ipython",
    "version": 3
   },
   "file_extension": ".py",
   "mimetype": "text/x-python",
   "name": "python",
   "nbconvert_exporter": "python",
   "pygments_lexer": "ipython3",
   "version": "3.9.1-final"
  },
  "orig_nbformat": 2,
  "kernelspec": {
   "name": "python3",
   "display_name": "Python 3.9.1 64-bit",
   "metadata": {
    "interpreter": {
     "hash": "d09eb01ff71c23bf08ba5f3f1cdadc9c8fc4ce20826c1bff5bbc628d0d5b1689"
    }
   }
  }
 },
 "nbformat": 4,
 "nbformat_minor": 2,
 "cells": [
  {
   "cell_type": "code",
   "execution_count": 10,
   "metadata": {},
   "outputs": [
    {
     "output_type": "stream",
     "name": "stdout",
     "text": [
      "{'a': 1, 'b': 2}\n"
     ]
    }
   ],
   "source": [
    "'''\n",
    "Q.1 Write a Python program to convert a tuple to a dictionary.\n",
    "'''\n",
    "a=(('a',1), ('b',2))\n",
    "print(dict(a))"
   ]
  },
  {
   "cell_type": "code",
   "execution_count": 40,
   "metadata": {},
   "outputs": [
    {
     "output_type": "stream",
     "name": "stdout",
     "text": [
      "55\n"
     ]
    }
   ],
   "source": [
    "'''\n",
    "Q.2 Accept number from user and calculate the sum of all number between 1 and that given number.\n",
    "e.g. number=10 \n",
    "Sum=55\n",
    "'''\n",
    "n = int(input(\"Enter any number: \"))\n",
    "sum = 0\n",
    "\n",
    "for i in range(1, n+1):\n",
    "    sum+=i\n",
    "print(sum)"
   ]
  },
  {
   "cell_type": "code",
   "execution_count": 27,
   "metadata": {},
   "outputs": [
    {
     "output_type": "stream",
     "name": "stdout",
     "text": [
      "5 4 3 2 1 \n4 3 2 1 \n3 2 1 \n2 1 \n1 \n\n"
     ]
    }
   ],
   "source": [
    "'''\n",
    "Q.3  Print the following pattern using for loop\n",
    "5 4 3 2 1 \n",
    "4 3 2 1 \n",
    "3 2 1 \n",
    "2 1 \n",
    "1\n",
    "'''\n",
    "row = 5\n",
    "for i in range(0, row+1):\n",
    "    for j in range(row-i, 0, -1):\n",
    "        print(j, end=' ')\n",
    "    print()"
   ]
  },
  {
   "cell_type": "code",
   "execution_count": 29,
   "metadata": {},
   "outputs": [
    {
     "output_type": "stream",
     "name": "stdout",
     "text": [
      "50 40 30 20 10 "
     ]
    }
   ],
   "source": [
    "'''\n",
    "Q.4 Reverse the following list using for loop\n",
    "list1 = [10, 20, 30, 40, 50]\n",
    "'''\n",
    "list1 = [10, 20, 30, 40, 50]\n",
    "for i in list1[::-1]:\n",
    "    print(i, end=' ')"
   ]
  },
  {
   "cell_type": "code",
   "execution_count": 36,
   "metadata": {},
   "outputs": [
    {
     "output_type": "stream",
     "name": "stdout",
     "text": [
      "2\n3\n5\n"
     ]
    }
   ],
   "source": [
    "'''\n",
    "Q.5 Python program to display all the prime numbers within a given range\n",
    "'''\n",
    "n = int(input('Enter any number: '))\n",
    "\n",
    "for i in range(0,n + 1):  \n",
    "   if i > 1:  \n",
    "       for j in range(2,i):  \n",
    "           if (i % j) == 0:  \n",
    "               break  \n",
    "       else:  \n",
    "           print(i)"
   ]
  },
  {
   "cell_type": "code",
   "execution_count": null,
   "metadata": {},
   "outputs": [],
   "source": []
  }
 ]
}