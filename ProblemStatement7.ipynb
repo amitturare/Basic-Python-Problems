{
 "metadata": {
  "language_info": {
   "codemirror_mode": {
    "name": "ipython",
    "version": 3
   },
   "file_extension": ".py",
   "mimetype": "text/x-python",
   "name": "python",
   "nbconvert_exporter": "python",
   "pygments_lexer": "ipython3",
   "version": "3.9.1-final"
  },
  "orig_nbformat": 2,
  "kernelspec": {
   "name": "python3",
   "display_name": "Python 3.9.1 64-bit",
   "metadata": {
    "interpreter": {
     "hash": "d09eb01ff71c23bf08ba5f3f1cdadc9c8fc4ce20826c1bff5bbc628d0d5b1689"
    }
   }
  }
 },
 "nbformat": 4,
 "nbformat_minor": 2,
 "cells": [
  {
   "cell_type": "code",
   "execution_count": null,
   "metadata": {},
   "outputs": [],
   "source": [
    "'''\n",
    "Q1: Write a Python program to count frequency of each character in given string.\n",
    "String=\"Google.com\"\n",
    "only this one\n",
    "'''\n",
    "#string = 'google.com'\n",
    "\n",
    "def find_freq(string):\n",
    "    freq = {} \n",
    "    for i in string: \n",
    "\t    if i in freq: \n",
    "\t\t    freq[i] += 1\n",
    "\t    else: \n",
    "\t        freq[i] = 1\n",
    "    return freq\n",
    "    \n",
    "\n",
    "print (\"Count of all characters:\", find_freq('google.com')) "
   ]
  },
  {
   "source": [],
   "cell_type": "markdown",
   "metadata": {}
  },
  {
   "cell_type": "code",
   "execution_count": 40,
   "metadata": {},
   "outputs": [
    {
     "output_type": "stream",
     "name": "stdout",
     "text": [
      "amuaru\nConcatenation of amu and aru is amuaru\n"
     ]
    }
   ],
   "source": [
    "'''\n",
    "Q2: Write a Python program to concatenate two strings without using a library function.\n",
    "'''\n",
    "a = input('Enter one str: ')\n",
    "b = input('Enter another str: ')\n",
    "\n",
    "d = a\n",
    "for i in b:\n",
    "    d += i\n",
    "\n",
    "print('Concatenation of {} and {} is {}'.format(a, b, d)) "
   ]
  },
  {
   "cell_type": "code",
   "execution_count": null,
   "metadata": {},
   "outputs": [],
   "source": []
  },
  {
   "cell_type": "code",
   "execution_count": 39,
   "metadata": {},
   "outputs": [
    {
     "output_type": "stream",
     "name": "stdout",
     "text": [
      "Python3 Hello World!\n"
     ]
    }
   ],
   "source": [
    "'''\n",
    "Q3: Write a Python Program to copy one string into another  without using built-in  function\n",
    "'''\n",
    "a = 'Hello World!'\n",
    "b = 'Python3'\n",
    "\n",
    "a, b = b, a\n",
    "print(a,b)"
   ]
  },
  {
   "cell_type": "code",
   "execution_count": null,
   "metadata": {},
   "outputs": [],
   "source": []
  }
 ]
}