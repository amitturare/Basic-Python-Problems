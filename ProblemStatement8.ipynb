{
 "metadata": {
  "language_info": {
   "codemirror_mode": {
    "name": "ipython",
    "version": 3
   },
   "file_extension": ".py",
   "mimetype": "text/x-python",
   "name": "python",
   "nbconvert_exporter": "python",
   "pygments_lexer": "ipython3",
   "version": "3.9.1-final"
  },
  "orig_nbformat": 2,
  "kernelspec": {
   "name": "python3",
   "display_name": "Python 3.9.1 64-bit",
   "metadata": {
    "interpreter": {
     "hash": "d09eb01ff71c23bf08ba5f3f1cdadc9c8fc4ce20826c1bff5bbc628d0d5b1689"
    }
   }
  }
 },
 "nbformat": 4,
 "nbformat_minor": 2,
 "cells": [
  {
   "cell_type": "code",
   "execution_count": 13,
   "metadata": {},
   "outputs": [
    {
     "output_type": "stream",
     "name": "stdout",
     "text": [
      "Given List: [1, 2, 3, 4]\n",
      "Not present in the list.\n"
     ]
    }
   ],
   "source": [
    "'''\n",
    "Write a  program to find out whether given no. is in the list or not\n",
    "'''\n",
    "list1 = [1, 2, 3, 4]\n",
    "print('Given List:', list1)\n",
    "n = int(input(\"Enter a number to check: \"))\n",
    "n_in_list = False\n",
    "\n",
    "for i in range(len(list1)):\n",
    "    if n == list1[i]:\n",
    "        n_in_list = True\n",
    "        \n",
    "if n_in_list:\n",
    "    print('{} is present in the list.'.format(n))\n",
    "else:\n",
    "    print('Not present in the list.')\n",
    "\n",
    "    "
   ]
  },
  {
   "cell_type": "code",
   "execution_count": null,
   "metadata": {},
   "outputs": [],
   "source": []
  }
 ]
}