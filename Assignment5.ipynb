{
 "metadata": {
  "language_info": {
   "codemirror_mode": {
    "name": "ipython",
    "version": 3
   },
   "file_extension": ".py",
   "mimetype": "text/x-python",
   "name": "python",
   "nbconvert_exporter": "python",
   "pygments_lexer": "ipython3",
   "version": "3.9.1-final"
  },
  "orig_nbformat": 2,
  "kernelspec": {
   "name": "python3",
   "display_name": "Python 3.9.1 64-bit",
   "metadata": {
    "interpreter": {
     "hash": "d09eb01ff71c23bf08ba5f3f1cdadc9c8fc4ce20826c1bff5bbc628d0d5b1689"
    }
   }
  }
 },
 "nbformat": 4,
 "nbformat_minor": 2,
 "cells": [
  {
   "cell_type": "code",
   "execution_count": null,
   "metadata": {},
   "outputs": [],
   "source": [
    "'''\n",
    "Q1: Write a python program to find factorial of a number taken from user using functions.\n",
    "'''\n",
    "def factorial(num):\n",
    "    fac = 1\n",
    "    for i in range(1, num+1):\n",
    "        fac = fac*i\n",
    "        return fac\n",
    "\n",
    "a = int(input('Enter a number: '))\n",
    "print('Factorial of', a, 'is =', factorial(a))    \n"
   ]
  },
  {
   "cell_type": "code",
   "execution_count": null,
   "metadata": {},
   "outputs": [],
   "source": [
    "'''\n",
    "Q2: Write a python program to print whether given number is odd or even using functions.\n",
    "'''\n",
    "def check(n):\n",
    "    if n % 2 == 0:\n",
    "        print('{} is an even number.'.format(n))\n",
    "    else:\n",
    "        print('{} is an odd number.'.format(n))\n",
    "\n",
    "a = int(input('Enter a number: '))\n",
    "check(a)"
   ]
  },
  {
   "cell_type": "code",
   "execution_count": 1,
   "metadata": {},
   "outputs": [
    {
     "output_type": "stream",
     "name": "stdout",
     "text": [
      "[15, 16, 14, 18, 10]\nTota: 73\n"
     ]
    }
   ],
   "source": [
    "'''\n",
    "Q3: Write a python program to print sum of all the numbers in a list. Eg. [10, 20, 30, 40]\n",
    "'''\n",
    "def add():\n",
    "    list1 = []\n",
    "    total = 0\n",
    "    while True:\n",
    "        a = int(input('Enter number to append in the list: '))\n",
    "        list1.append(a)\n",
    "        if a == 69:\n",
    "            break\n",
    "    print(list1)\n",
    "\n",
    "    for i in list1:\n",
    "        total = total + i\n",
    "\n",
    "    print('Tota:', total)\n",
    "\n",
    "add()"
   ]
  }
 ]
}