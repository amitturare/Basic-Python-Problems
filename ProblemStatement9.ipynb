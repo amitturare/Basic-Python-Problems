{
 "metadata": {
  "language_info": {
   "codemirror_mode": {
    "name": "ipython",
    "version": 3
   },
   "file_extension": ".py",
   "mimetype": "text/x-python",
   "name": "python",
   "nbconvert_exporter": "python",
   "pygments_lexer": "ipython3",
   "version": "3.9.1-final"
  },
  "orig_nbformat": 2,
  "kernelspec": {
   "name": "python3",
   "display_name": "Python 3.9.1 64-bit",
   "metadata": {
    "interpreter": {
     "hash": "d09eb01ff71c23bf08ba5f3f1cdadc9c8fc4ce20826c1bff5bbc628d0d5b1689"
    }
   }
  }
 },
 "nbformat": 4,
 "nbformat_minor": 2,
 "cells": [
  {
   "cell_type": "code",
   "execution_count": null,
   "metadata": {},
   "outputs": [],
   "source": [
    "'''\n",
    "Q.1 Write a Python program to check whether a given key already exists in a dictionary\n",
    "'''\n",
    "dic = {1:'A', 2:'B', 3:'C', 4:'D'}\n",
    "k = int(input('Enter some value: '))\n",
    "if k in dic.keys():\n",
    "    print('{} is present in the dictionary.'.format(k))\n",
    "else:\n",
    "    print('{} is not present in the dictionary.'.format(k))"
   ]
  },
  {
   "cell_type": "code",
   "execution_count": null,
   "metadata": {},
   "outputs": [],
   "source": [
    "'''\n",
    "Q.2 Write a Python program to remove item(s) from set\n",
    "'''\n",
    "s = set([0, 1, 2, 3, 4, 5])\n",
    "delete = int(input('Enter a number to delete from set: '))\n",
    "s.discard(delete)\n",
    "print(s)"
   ]
  },
  {
   "cell_type": "code",
   "execution_count": null,
   "metadata": {},
   "outputs": [],
   "source": [
    "'''\n",
    "Q.3 Write a Python program to sum all the items in a dictionary.\n",
    "'''\n",
    "dic = {'A':1, 'B':2, 'C':3, 'D':4}\n",
    "sum = 0\n",
    "for i in dic:\n",
    "    sum = sum + dic[i]\n",
    "print(sum)"
   ]
  },
  {
   "cell_type": "code",
   "execution_count": null,
   "metadata": {},
   "outputs": [],
   "source": [
    "'''\n",
    "Q.4 Write a Python program to remove a key from a dictionary.\n",
    "'''\n",
    "dic = {'A':1, 'B':2, 'C':3, 'D':4}\n",
    "print(dic)\n",
    "delete = input('Enter any key to delete from dict: ')\n",
    "del dic[delete]\n",
    "print('After deleting:', dic)"
   ]
  },
  {
   "cell_type": "code",
   "execution_count": 41,
   "metadata": {},
   "outputs": [
    {
     "output_type": "stream",
     "name": "stdout",
     "text": [
      "Max Value: 4\nMin Value: 1\n"
     ]
    }
   ],
   "source": [
    "'''\n",
    "Q.5 Write a Python program to get the maximum and minimum value in a dictionary.\n",
    "'''\n",
    "dic = {1:'A', 2:'B', 3:'C', 4:'D'}\n",
    "a = dic.keys()\n",
    "max_value = max(a)\n",
    "min_value = min(a)\n",
    "print('Max Value: {}\\nMin Value: {}'.format(max_value, min_value))"
   ]
  },
  {
   "cell_type": "code",
   "execution_count": null,
   "metadata": {},
   "outputs": [],
   "source": [
    "'''\n",
    "Q.6 Write a python program to add member(s) in a set.\n",
    "'''\n",
    "s = set([0, 1, 2, 3, 4, 5])\n",
    "s.add('Red')\n",
    "print(s)"
   ]
  },
  {
   "cell_type": "code",
   "execution_count": null,
   "metadata": {},
   "outputs": [],
   "source": [
    "'''\n",
    "Q.7 Write a python program to remove an item from a set if it is present in the set.\n",
    "'''\n",
    "s = set([0, 1, 2, 3, 4, 5])\n",
    "print(s)\n",
    "delete = int(input('Enter a number to delete from set: '))\n",
    "if delete in s:\n",
    "    s.discard(delete)\n",
    "    print('After deleting:', s)"
   ]
  },
  {
   "cell_type": "code",
   "execution_count": 7,
   "metadata": {},
   "outputs": [
    {
     "output_type": "stream",
     "name": "stdout",
     "text": [
      "None\nNone\nNone\nNone\nNone\nNone\n7 is the greatest number.\n"
     ]
    }
   ],
   "source": [
    "'''\n",
    "Q.8  Write a Python program to get the largest number from a list.\n",
    "'''\n",
    "l = [1, 2, 3, 4, 5, 6, 7]\n",
    "max = l[0]\n",
    "for i in l:\n",
    "    if i>max:\n",
    "        print(None)\n",
    "print(i, 'is the greatest number.')\n"
   ]
  },
  {
   "cell_type": "code",
   "execution_count": null,
   "metadata": {},
   "outputs": [],
   "source": []
  }
 ]
}