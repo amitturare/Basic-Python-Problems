{
 "metadata": {
  "language_info": {
   "codemirror_mode": {
    "name": "ipython",
    "version": 3
   },
   "file_extension": ".py",
   "mimetype": "text/x-python",
   "name": "python",
   "nbconvert_exporter": "python",
   "pygments_lexer": "ipython3",
   "version": "3.9.1-final"
  },
  "orig_nbformat": 2,
  "kernelspec": {
   "name": "python3",
   "display_name": "Python 3.9.1 64-bit",
   "metadata": {
    "interpreter": {
     "hash": "d09eb01ff71c23bf08ba5f3f1cdadc9c8fc4ce20826c1bff5bbc628d0d5b1689"
    }
   }
  }
 },
 "nbformat": 4,
 "nbformat_minor": 2,
 "cells": [
  {
   "cell_type": "code",
   "execution_count": null,
   "metadata": {},
   "outputs": [],
   "source": [
    "# Q1: Write a Python program to check whether an alphabet is a vowel or consonant.\n",
    "letter = input(\"Enter a letter: \")\n",
    "vowels = ['a', 'e', 'i', 'o', 'u']\n",
    "\n",
    "if letter in vowels:\n",
    "    print(letter, 'is a vowel.')\n",
    "else:\n",
    "    print(\"It's not a vowel.\")"
   ]
  },
  {
   "cell_type": "code",
   "execution_count": null,
   "metadata": {},
   "outputs": [],
   "source": [
    "# Q2: Palindrome\n",
    "num = input('Enter a number: ')\n",
    "print('Given Number =', num)\n",
    "reversed_num = num[::-1]\n",
    "print('Reversed Number =', reversed_num)\n",
    "\n",
    "if(num == reversed_num):\n",
    "    print(\"It's a palindrome.\")\n",
    "else:\n",
    "    print(\"It's not a palindrome.\")"
   ]
  },
  {
   "cell_type": "code",
   "execution_count": null,
   "metadata": {},
   "outputs": [],
   "source": [
    "# Q3: Reverse the following list using for loop\n",
    "list1 = [10, 20, 30, 40, 50]\n",
    "for i in reversed(list1):\n",
    "    print(i, end=\" \")"
   ]
  },
  {
   "cell_type": "code",
   "execution_count": null,
   "metadata": {},
   "outputs": [],
   "source": [
    "# Q4: Program to find the factorial of a given number using for loop.\n",
    "number = int(input('Enter a number: '))\n",
    "fac = 1\n",
    "\n",
    "for i in range(1, number+1):\n",
    "    fac = fac * i\n",
    "print(\"Factorial of\", number, \"is\", fac)"
   ]
  }
 ]
}