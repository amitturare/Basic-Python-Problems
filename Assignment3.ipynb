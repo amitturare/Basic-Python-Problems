{
 "metadata": {
  "language_info": {
   "codemirror_mode": {
    "name": "ipython",
    "version": 3
   },
   "file_extension": ".py",
   "mimetype": "text/x-python",
   "name": "python",
   "nbconvert_exporter": "python",
   "pygments_lexer": "ipython3",
   "version": "3.9.1-final"
  },
  "orig_nbformat": 2,
  "kernelspec": {
   "name": "python3",
   "display_name": "Python 3.9.1 64-bit",
   "metadata": {
    "interpreter": {
     "hash": "d09eb01ff71c23bf08ba5f3f1cdadc9c8fc4ce20826c1bff5bbc628d0d5b1689"
    }
   }
  }
 },
 "nbformat": 4,
 "nbformat_minor": 2,
 "cells": [
  {
   "cell_type": "code",
   "execution_count": 2,
   "metadata": {},
   "outputs": [
    {
     "output_type": "stream",
     "name": "stdout",
     "text": [
      "Area of the circle of radius  4.0 is  50.24\n"
     ]
    }
   ],
   "source": [
    "# QUESTION: 1\n",
    "r = float(input(\"Enter radius: \"))\n",
    "print(\"Area of the circle of radius \", r, \"is \", 3.14 * r * r)"
   ]
  },
  {
   "cell_type": "code",
   "execution_count": 6,
   "metadata": {},
   "outputs": [
    {
     "output_type": "stream",
     "name": "stdout",
     "text": [
      "Percentage is =  85.8\n"
     ]
    }
   ],
   "source": [
    "# QUESTION: 2\n",
    "sub1=int(input(\"Enter marks of the first subject: \"))\n",
    "sub2=int(input(\"Enter marks of the second subject: \"))\n",
    "sub3=int(input(\"Enter marks of the third subject: \"))\n",
    "sub4=int(input(\"Enter marks of the fourth subject: \"))\n",
    "sub5=int(input(\"Enter marks of the fifth subject: \"))\n",
    "# Assuming all subs have total marks of 100\n",
    "avg=((sub1+sub2+sub3+sub4+sub4)/500)*100\n",
    "print(\"Percentage is = \", avg)"
   ]
  },
  {
   "cell_type": "code",
   "execution_count": 7,
   "metadata": {},
   "outputs": [
    {
     "output_type": "stream",
     "name": "stdout",
     "text": [
      "3.0  is the greatest\n"
     ]
    }
   ],
   "source": [
    "# QUESTION: 3\n",
    "num1=float(input(\"Enter the first number: \"))\n",
    "num2=float(input(\"Enter the second number: \"))\n",
    "num3=float(input(\"Enter the third number: \"))\n",
    "if(num1>=num2 and num1>=num3):\n",
    "  print(num1,\" is the greatest\")\n",
    "elif(num2>=num1 and num2>=num3):\n",
    "  print(num2,\" is the greatest\")\n",
    "else:\n",
    "    print(num3,\" is the greatest\")"
   ]
  },
  {
   "cell_type": "code",
   "execution_count": 8,
   "metadata": {},
   "outputs": [
    {
     "output_type": "stream",
     "name": "stdout",
     "text": [
      "10 8\n8 10\n"
     ]
    }
   ],
   "source": [
    "# QUESTION: 4\n",
    "a = 10\n",
    "b = 8\n",
    "print(a, b)\n",
    "b = a - b # b = 2, a = 10\n",
    "a = a - b # a = 8, b = 2\n",
    "b = a + b # a = 8, b = 10\n",
    "#a, b = b, a\n",
    "print(a, b)"
   ]
  },
  {
   "cell_type": "code",
   "execution_count": null,
   "metadata": {},
   "outputs": [],
   "source": []
  }
 ]
}