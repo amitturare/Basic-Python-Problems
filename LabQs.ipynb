{
 "metadata": {
  "language_info": {
   "codemirror_mode": {
    "name": "ipython",
    "version": 3
   },
   "file_extension": ".py",
   "mimetype": "text/x-python",
   "name": "python",
   "nbconvert_exporter": "python",
   "pygments_lexer": "ipython3",
   "version": 3
  },
  "orig_nbformat": 2
 },
 "nbformat": 4,
 "nbformat_minor": 2,
 "cells": [
  {
   "cell_type": "code",
   "execution_count": null,
   "metadata": {},
   "outputs": [],
   "source": [
    "'''\n",
    "Q1: Reverse the following list using for loop.\n",
    "l1 = [10, 20, 30, 40, 50]\n",
    "'''\n",
    "for i in (l1[::-1]):\n",
    "    print(i, end=\" \")"
   ]
  },
  {
   "cell_type": "code",
   "execution_count": null,
   "metadata": {},
   "outputs": [],
   "source": [
    "'''\n",
    "Q2: Use a  for loop to display elements from a given list which are present at even positions.\n",
    "l2 = [10, 20, 30, 40, 50, 60, 70, 80, 90, 100]\n",
    "'''\n",
    "l2 = [10, 20, 30, 40, 50, 60, 70, 80, 90, 100]\n",
    "for i in (l2[::2]):\n",
    "    print(i, end=\" \")"
   ]
  },
  {
   "cell_type": "code",
   "execution_count": null,
   "metadata": {},
   "outputs": [],
   "source": [
    "'''\n",
    "Q3: Display the cube of the number up to a given integer.\n",
    "'''\n",
    "n = int(input(\"Enter a number = \"))\n",
    "\n",
    "for i in range(1, n+1):\n",
    "    print(\"cube of\", i, \"=\", i**3)"
   ]
  },
  {
   "cell_type": "code",
   "execution_count": null,
   "metadata": {},
   "outputs": [],
   "source": [
    "'''\n",
    "Q4: Find the sum of the series 2 + 22 + 222 + 2222 + .. n terms.\n",
    "'''\n",
    "num = int(input(\"Enter a number = \"))\n",
    "sum = 0\n",
    "\n",
    "for i in range(1, num+1):\n",
    "    I = '2' * i\n",
    "    sum = sum + int(I)\n",
    "print(\"The sum of the series is\", sum)"
   ]
  },
  {
   "cell_type": "code",
   "execution_count": null,
   "metadata": {},
   "outputs": [],
   "source": [
    "'''\n",
    "Q5: Using range(1,101), make two list, one containing all even numbers and other containing all odd numbers.\n",
    "'''\n",
    "even =  []\n",
    "odd = []\n",
    "\n",
    "for i in range(1, 101):\n",
    "    if(i % 2 == 0):\n",
    "        even.append(i)\n",
    "    else:\n",
    "        odd.append(i)\n",
    "\n",
    "print(\"Even numbers:\\n\", even)\n",
    "print(\"Odd numbers:\\n\", odd)"
   ]
  }
 ]
}